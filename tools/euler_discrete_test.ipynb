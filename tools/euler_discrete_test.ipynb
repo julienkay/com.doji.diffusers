{
  "cells": [
    {
      "cell_type": "code",
      "execution_count": null,
      "metadata": {
        "colab": {
          "base_uri": "https://localhost:8080/"
        },
        "id": "85ijpHmWGesb",
        "outputId": "4f7ee792-eab6-47bf-cc55-3300c49c3b35"
      },
      "outputs": [],
      "source": [
        "from diffusers import EulerDiscreteScheduler\n",
        "import numpy as np\n",
        "import torch\n",
        "import test_utils\n",
        "\n",
        "scheduler = EulerDiscreteScheduler(\n",
        "  num_train_timesteps = 1000,\n",
        "  beta_start = 0.00085,\n",
        "  beta_end = 0.012,\n",
        "  beta_schedule = \"scaled_linear\",\n",
        "  interpolation_type = \"linear\",\n",
        "  prediction_type = \"epsilon\",\n",
        "  steps_offset = 1,\n",
        "  timestep_spacing = \"leading\",\n",
        "  trained_betas = None,\n",
        "  use_karras_sigmas = False\n",
        ")\n",
        "\n",
        "# print some properties for newly initialized schedulers\n",
        "print(f\"beta_schedule: {scheduler.beta_schedule}\")\n",
        "print(f\"sigmas: {scheduler.sigmas}\")\n",
        "print(f\"init_noise_sigma: {scheduler.init_noise_sigma}\")\n",
        "np.savetxt(\"..\\com.doji.diffusers\\Tests\\Editor\\Resources\\euler_discrete_test_sigmas.txt\", [scheduler.sigmas], fmt='%g', delimiter=',\\n')\n",
        "\n",
        "#print(\"betas:\")\n",
        "np.savetxt(\"..\\com.doji.diffusers\\Tests\\Editor\\Resources\\euler_discrete_test_betas.txt\", [scheduler.betas], fmt='%g', delimiter=',\\n')\n",
        "#print(formatted_string_with_newlines)\n",
        "\n",
        "#print timesteps after calling set_timesteps(10)\n",
        "print(f\"\\ntimesteps before: {scheduler.timesteps}\")\n",
        "scheduler.set_timesteps(10)\n",
        "print(f\"timesteps after: {scheduler.timesteps}\")\n",
        "print(f\"init_noise_sigma: {scheduler.init_noise_sigma}\")\n",
        "np.savetxt(\"..\\com.doji.diffusers\\Tests\\Editor\\Resources\\euler_discrete_test_sigmas_2.txt\", [scheduler.sigmas], fmt='%g', delimiter=',\\n')\n",
        "\n",
        "sample = test_utils.scheduler_samples()\n",
        "sample = np.array(sample).reshape((4, 3, 8, 8))\n",
        "timestep = 901\n",
        "\n",
        "'''\n",
        "residual = torch.tensor(sample) * timestep / (timestep + 1)\n",
        "prev_timestep = timestep - 1000 // 10\n",
        "print(prev_timestep)\n",
        "prev = scheduler._get_prev_sample(residual, timestep, prev_timestep, torch.tensor(sample))\n",
        "np.savetxt(\"prev_901.txt\", prev.flatten(), fmt='%f', delimiter=',', newline=',\\n')\n",
        "\n",
        "residual = torch.tensor(sample) * timestep / (timestep + 1)\n",
        "prev_timestep = timestep - 1000 // 10\n",
        "print(prev_timestep)\n",
        "prev = scheduler._get_prev_sample(residual, timestep, prev_timestep, torch.tensor(sample))\n",
        "np.savetxt(\"prev_801.txt\", prev.flatten(), fmt='%f', delimiter=',', newline=',\\n')\n",
        "'''\n",
        "\n",
        "print(sample)\n",
        "print(scheduler.timesteps)\n",
        "#sample = torch.rand((4, 3, 8, 8))\n",
        "#np.savetxt(\"output.txt\", sample.flatten(), fmt='%f', delimiter=',', newline=',\\n')\n",
        "#print(f\"rand: {sample.flatten()}\")\n",
        "sample = torch.tensor(sample)\n",
        "sample = sample * scheduler.init_noise_sigma\n",
        "\n",
        "for i, t in enumerate(scheduler.timesteps):\n",
        "  print(t)\n",
        "  residual = torch.tensor(sample) * t / (t + 1)\n",
        "  residual = scheduler.scale_model_input(residual, t)\n",
        "  sample = scheduler.step(residual, t, sample).prev_sample\n",
        "  #np.savetxt(f\"..\\com.doji.diffusers\\Tests\\Editor\\Resources\\euler_discrete_prev_{t}_{i}.txt\", [sample.flatten()],  fmt='%g', delimiter=',\\n')\n",
        "print(f\"result: {sample}\")\n",
        "np.savetxt(\"..\\com.doji.diffusers\\Tests\\Editor\\Resources\\euler_discrete_test_expected_output.txt\", [sample.flatten()], fmt='%g', delimiter=',\\n')\n",
        "\n",
        "#residual = 0.1 * sample\n",
        "#dummy_past_residuals = [residual + 0.2, residual + 0.15, residual + 0.1, residual + 0.05]\n",
        "#scheduler.ets = dummy_past_residuals[:]\n",
        "#output = scheduler.step_prk(residual, 0, sample).prev_sample\n",
        "#print(type(scheduler.cur_model_output))\n",
        "#print(scheduler.cur_model_output)"
      ]
    }
  ],
  "metadata": {
    "colab": {
      "provenance": []
    },
    "kernelspec": {
      "display_name": "Python 3",
      "name": "python3"
    },
    "language_info": {
      "codemirror_mode": {
        "name": "ipython",
        "version": 3
      },
      "file_extension": ".py",
      "mimetype": "text/x-python",
      "name": "python",
      "nbconvert_exporter": "python",
      "pygments_lexer": "ipython3",
      "version": "3.9.1"
    }
  },
  "nbformat": 4,
  "nbformat_minor": 0
}
